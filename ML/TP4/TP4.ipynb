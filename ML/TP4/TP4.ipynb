{
  "nbformat": 4,
  "nbformat_minor": 0,
  "metadata": {
    "colab": {
      "provenance": [],
      "gpuType": "T4"
    },
    "kernelspec": {
      "name": "python3",
      "display_name": "Python 3"
    },
    "language_info": {
      "name": "python"
    },
    "accelerator": "GPU"
  },
  "cells": [
    {
      "cell_type": "code",
      "execution_count": 4,
      "metadata": {
        "id": "FEvS-m2azMzD"
      },
      "outputs": [],
      "source": [
        "import tensorflow as tf\n",
        "(x_train, y_train), (x_test, y_test) = tf.keras.datasets.cifar10.load_data()"
      ]
    },
    {
      "cell_type": "code",
      "source": [
        "# Configuration des GPUs et CPUs\n",
        "config = tf.compat.v1.ConfigProto(device_count={'GPU': 2, 'CPU': 4})\n",
        "sess = tf.compat.v1.Session(config=config)\n",
        "tf.compat.v1.keras.backend.set_session(sess);"
      ],
      "metadata": {
        "id": "6xr8qfZ71PpY"
      },
      "execution_count": 5,
      "outputs": []
    },
    {
      "cell_type": "code",
      "source": [
        "x_train = x_train.astype('float32')/255\n",
        "x_test = x_test.astype('float32')/255\n",
        "\n",
        "y_train = tf.keras.utils.to_categorical(y_train, 10)\n",
        "y_test = tf.keras.utils.to_categorical(y_test, 10)\n"
      ],
      "metadata": {
        "id": "iEfZniP408OW"
      },
      "execution_count": 6,
      "outputs": []
    },
    {
      "cell_type": "code",
      "source": [
        "print(x_train.shape)"
      ],
      "metadata": {
        "colab": {
          "base_uri": "https://localhost:8080/"
        },
        "id": "ZGxsX6me4LWg",
        "outputId": "1fadecfb-4557-406b-8bf8-73fd745701ce"
      },
      "execution_count": 7,
      "outputs": [
        {
          "output_type": "stream",
          "name": "stdout",
          "text": [
            "(50000, 32, 32, 3)\n"
          ]
        }
      ]
    },
    {
      "cell_type": "code",
      "source": [
        "from tensorflow.keras.preprocessing.image import ImageDataGenerator\n",
        "datagen = ImageDataGenerator(\n",
        "    rotation_range=40,\n",
        "    width_shift_range=0.2,\n",
        "    height_shift_range=0.2,\n",
        "    horizontal_flip=True,\n",
        "    fill_mode='nearest')\n",
        "\n",
        "# On utilise l'augmentation des données\n",
        "datagen.fit(x_train)"
      ],
      "metadata": {
        "id": "dD-axt1WLaXg"
      },
      "execution_count": 8,
      "outputs": []
    },
    {
      "cell_type": "code",
      "source": [
        "model = tf.keras.models.Sequential()\n",
        "model.add(tf.keras.layers.Flatten(input_shape=(32,32,3)))\n",
        "model.add(tf.keras.layers.Dense(512, activation='relu'))\n",
        "model.add(tf.keras.layers.Dense(512, activation='relu'))\n",
        "model.add(tf.keras.layers.Dense(512, activation='relu'))\n",
        "model.add(tf.keras.layers.Dense(512, activation='relu'))\n",
        "model.add(tf.keras.layers.Dense(10, activation='softmax'))"
      ],
      "metadata": {
        "id": "BiAibmUv3Uq6"
      },
      "execution_count": 9,
      "outputs": []
    },
    {
      "cell_type": "code",
      "source": [
        "# train the model\n",
        "model.compile(optimizer='adam', loss='categorical_crossentropy', metrics=['accuracy'])\n",
        "\n",
        "model.fit(x_train, y_train, epochs=10, batch_size=32, validation_data=(x_test, y_test), shuffle=True)"
      ],
      "metadata": {
        "colab": {
          "base_uri": "https://localhost:8080/"
        },
        "id": "apU9IXlu3WI-",
        "outputId": "1cb07d2d-2b02-4fad-9825-b9cb305bb793"
      },
      "execution_count": 10,
      "outputs": [
        {
          "output_type": "stream",
          "name": "stdout",
          "text": [
            "Epoch 1/10\n",
            "1563/1563 [==============================] - 10s 5ms/step - loss: 1.8735 - accuracy: 0.3154 - val_loss: 1.7999 - val_accuracy: 0.3629\n",
            "Epoch 2/10\n",
            "1563/1563 [==============================] - 7s 5ms/step - loss: 1.7078 - accuracy: 0.3842 - val_loss: 1.6926 - val_accuracy: 0.3881\n",
            "Epoch 3/10\n",
            "1563/1563 [==============================] - 7s 5ms/step - loss: 1.6230 - accuracy: 0.4132 - val_loss: 1.6145 - val_accuracy: 0.4142\n",
            "Epoch 4/10\n",
            "1563/1563 [==============================] - 7s 5ms/step - loss: 1.5649 - accuracy: 0.4361 - val_loss: 1.5393 - val_accuracy: 0.4491\n",
            "Epoch 5/10\n",
            "1563/1563 [==============================] - 7s 4ms/step - loss: 1.5277 - accuracy: 0.4497 - val_loss: 1.5192 - val_accuracy: 0.4536\n",
            "Epoch 6/10\n",
            "1563/1563 [==============================] - 9s 5ms/step - loss: 1.4887 - accuracy: 0.4605 - val_loss: 1.5470 - val_accuracy: 0.4530\n",
            "Epoch 7/10\n",
            "1563/1563 [==============================] - 7s 5ms/step - loss: 1.4570 - accuracy: 0.4757 - val_loss: 1.5657 - val_accuracy: 0.4431\n",
            "Epoch 8/10\n",
            "1563/1563 [==============================] - 8s 5ms/step - loss: 1.4301 - accuracy: 0.4855 - val_loss: 1.4885 - val_accuracy: 0.4732\n",
            "Epoch 9/10\n",
            "1563/1563 [==============================] - 7s 4ms/step - loss: 1.3996 - accuracy: 0.4964 - val_loss: 1.4884 - val_accuracy: 0.4763\n",
            "Epoch 10/10\n",
            "1563/1563 [==============================] - 8s 5ms/step - loss: 1.3788 - accuracy: 0.5021 - val_loss: 1.4626 - val_accuracy: 0.4851\n"
          ]
        },
        {
          "output_type": "execute_result",
          "data": {
            "text/plain": [
              "<keras.src.callbacks.History at 0x7d67f6ef3b50>"
            ]
          },
          "metadata": {},
          "execution_count": 10
        }
      ]
    },
    {
      "cell_type": "code",
      "source": [
        "import tensorflow as tf\n",
        "\n",
        "model2 = tf.keras.models.Sequential()\n",
        "\n",
        "model2.add(tf.keras.layers.BatchNormalization())\n",
        "model2.add(tf.keras.layers.Conv2D(32, (3, 3), padding='same'))\n",
        "model2.add(tf.keras.layers.Activation('relu'))\n",
        "model2.add(tf.keras.layers.Dropout(0.05))\n",
        "model2.add(tf.keras.layers.MaxPooling2D(pool_size=(3, 3)))\n",
        "\n",
        "model2.add(tf.keras.layers.BatchNormalization())\n",
        "model2.add(tf.keras.layers.Conv2D(32, (3, 3), padding='same'))\n",
        "model2.add(tf.keras.layers.Activation('relu'))\n",
        "model2.add(tf.keras.layers.Dropout(0.05))\n",
        "model2.add(tf.keras.layers.MaxPooling2D(pool_size=(3, 3)))\n",
        "\n",
        "model2.add(tf.keras.layers.BatchNormalization())\n",
        "model2.add(tf.keras.layers.Conv2D(32, (3, 3), padding='same'))\n",
        "model2.add(tf.keras.layers.Activation('relu'))\n",
        "model2.add(tf.keras.layers.Dropout(0.05))\n",
        "model2.add(tf.keras.layers.MaxPooling2D(pool_size=(3, 3)))\n",
        "\n",
        "model2.add(tf.keras.layers.BatchNormalization())\n",
        "model2.add(tf.keras.layers.Flatten())\n",
        "model2.add(tf.keras.layers.Dropout(0.25))\n",
        "model2.add(tf.keras.layers.BatchNormalization())\n",
        "model2.add(tf.keras.layers.Dense(512, activation='relu'))\n",
        "model2.add(tf.keras.layers.BatchNormalization())\n",
        "model2.add(tf.keras.layers.Dropout(0.1))\n",
        "model2.add(tf.keras.layers.Dense(10, activation='softmax'))"
      ],
      "metadata": {
        "id": "VMHgT6Me1NIM"
      },
      "execution_count": 15,
      "outputs": []
    },
    {
      "cell_type": "code",
      "source": [
        "# train the model\n",
        "model2.compile(optimizer='adam', loss='categorical_crossentropy', metrics=['accuracy'])\n",
        "\n",
        "from tensorflow.keras.callbacks import ModelCheckpoint\n",
        "checkpoint = ModelCheckpoint(\"best_model.hdf5\", monitor='val_accuracy', verbose=1, save_best_only=True, mode='max')\n",
        "callbacks_list = [checkpoint]\n",
        "\n",
        "model2.fit(datagen.flow(x_train, y_train), epochs=13, batch_size=16, validation_data=(x_test, y_test),  callbacks=callbacks_list)"
      ],
      "metadata": {
        "colab": {
          "base_uri": "https://localhost:8080/"
        },
        "id": "3nWPAsZT2O0z",
        "outputId": "58a77021-d846-4de3-e234-cba7fb275688"
      },
      "execution_count": 16,
      "outputs": [
        {
          "output_type": "stream",
          "name": "stdout",
          "text": [
            "Epoch 1/13\n",
            "1561/1563 [============================>.] - ETA: 0s - loss: 1.9221 - accuracy: 0.3114\n",
            "Epoch 1: val_accuracy improved from -inf to 0.41910, saving model to best_model.hdf5\n",
            "1563/1563 [==============================] - 47s 28ms/step - loss: 1.9219 - accuracy: 0.3114 - val_loss: 1.5764 - val_accuracy: 0.4191\n",
            "Epoch 2/13\n",
            "1561/1563 [============================>.] - ETA: 0s - loss: 1.6373 - accuracy: 0.4052\n",
            "Epoch 2: val_accuracy improved from 0.41910 to 0.48410, saving model to best_model.hdf5\n",
            "1563/1563 [==============================] - 43s 27ms/step - loss: 1.6371 - accuracy: 0.4053 - val_loss: 1.4109 - val_accuracy: 0.4841\n",
            "Epoch 3/13\n",
            "1561/1563 [============================>.] - ETA: 0s - loss: 1.5327 - accuracy: 0.4439\n",
            "Epoch 3: val_accuracy improved from 0.48410 to 0.51110, saving model to best_model.hdf5\n",
            "1563/1563 [==============================] - 42s 27ms/step - loss: 1.5326 - accuracy: 0.4440 - val_loss: 1.3572 - val_accuracy: 0.5111\n",
            "Epoch 4/13\n",
            "1561/1563 [============================>.] - ETA: 0s - loss: 1.4611 - accuracy: 0.4712\n",
            "Epoch 4: val_accuracy improved from 0.51110 to 0.53640, saving model to best_model.hdf5\n",
            "1563/1563 [==============================] - 42s 27ms/step - loss: 1.4610 - accuracy: 0.4712 - val_loss: 1.2639 - val_accuracy: 0.5364\n",
            "Epoch 5/13\n",
            "1561/1563 [============================>.] - ETA: 0s - loss: 1.4251 - accuracy: 0.4871\n",
            "Epoch 5: val_accuracy improved from 0.53640 to 0.55600, saving model to best_model.hdf5\n",
            "1563/1563 [==============================] - 42s 27ms/step - loss: 1.4249 - accuracy: 0.4870 - val_loss: 1.2529 - val_accuracy: 0.5560\n",
            "Epoch 6/13\n",
            "1561/1563 [============================>.] - ETA: 0s - loss: 1.3877 - accuracy: 0.5024\n",
            "Epoch 6: val_accuracy improved from 0.55600 to 0.57130, saving model to best_model.hdf5\n",
            "1563/1563 [==============================] - 41s 26ms/step - loss: 1.3879 - accuracy: 0.5024 - val_loss: 1.2067 - val_accuracy: 0.5713\n",
            "Epoch 7/13\n",
            "1562/1563 [============================>.] - ETA: 0s - loss: 1.3540 - accuracy: 0.5159\n",
            "Epoch 7: val_accuracy improved from 0.57130 to 0.59210, saving model to best_model.hdf5\n",
            "1563/1563 [==============================] - 42s 27ms/step - loss: 1.3538 - accuracy: 0.5160 - val_loss: 1.1599 - val_accuracy: 0.5921\n",
            "Epoch 8/13\n",
            "1562/1563 [============================>.] - ETA: 0s - loss: 1.3319 - accuracy: 0.5260\n",
            "Epoch 8: val_accuracy did not improve from 0.59210\n",
            "1563/1563 [==============================] - 41s 26ms/step - loss: 1.3317 - accuracy: 0.5261 - val_loss: 1.1864 - val_accuracy: 0.5732\n",
            "Epoch 9/13\n",
            "1563/1563 [==============================] - ETA: 0s - loss: 1.3088 - accuracy: 0.5320\n",
            "Epoch 9: val_accuracy did not improve from 0.59210\n",
            "1563/1563 [==============================] - 40s 26ms/step - loss: 1.3088 - accuracy: 0.5320 - val_loss: 1.1438 - val_accuracy: 0.5864\n",
            "Epoch 10/13\n",
            "1563/1563 [==============================] - ETA: 0s - loss: 1.2895 - accuracy: 0.5431\n",
            "Epoch 10: val_accuracy improved from 0.59210 to 0.61240, saving model to best_model.hdf5\n",
            "1563/1563 [==============================] - 41s 26ms/step - loss: 1.2895 - accuracy: 0.5431 - val_loss: 1.1103 - val_accuracy: 0.6124\n",
            "Epoch 11/13\n",
            "1563/1563 [==============================] - ETA: 0s - loss: 1.2736 - accuracy: 0.5485\n",
            "Epoch 11: val_accuracy improved from 0.61240 to 0.61850, saving model to best_model.hdf5\n",
            "1563/1563 [==============================] - 41s 26ms/step - loss: 1.2736 - accuracy: 0.5485 - val_loss: 1.0741 - val_accuracy: 0.6185\n",
            "Epoch 12/13\n",
            "1562/1563 [============================>.] - ETA: 0s - loss: 1.2610 - accuracy: 0.5518\n",
            "Epoch 12: val_accuracy did not improve from 0.61850\n",
            "1563/1563 [==============================] - 44s 28ms/step - loss: 1.2610 - accuracy: 0.5517 - val_loss: 1.0862 - val_accuracy: 0.6174\n",
            "Epoch 13/13\n",
            "1561/1563 [============================>.] - ETA: 0s - loss: 1.2480 - accuracy: 0.5578\n",
            "Epoch 13: val_accuracy improved from 0.61850 to 0.63290, saving model to best_model.hdf5\n",
            "1563/1563 [==============================] - 42s 27ms/step - loss: 1.2480 - accuracy: 0.5578 - val_loss: 1.0387 - val_accuracy: 0.6329\n"
          ]
        },
        {
          "output_type": "execute_result",
          "data": {
            "text/plain": [
              "<keras.src.callbacks.History at 0x7d67f0530730>"
            ]
          },
          "metadata": {},
          "execution_count": 16
        }
      ]
    },
    {
      "cell_type": "code",
      "source": [
        "predict = model2.predict(x_test, 10)\n",
        "print(predict)\n",
        "\n",
        "model2.evaluate(x_test, y_test)"
      ],
      "metadata": {
        "id": "ZR0MPvk-6IBH",
        "colab": {
          "base_uri": "https://localhost:8080/"
        },
        "outputId": "a259129a-c079-4fbe-b76b-3f6459358b5f"
      },
      "execution_count": 17,
      "outputs": [
        {
          "output_type": "stream",
          "name": "stdout",
          "text": [
            "1000/1000 [==============================] - 3s 3ms/step\n",
            "[[9.46834497e-03 2.61800699e-02 1.20604308e-02 ... 1.19574377e-02\n",
            "  1.42637968e-01 6.73663020e-02]\n",
            " [1.30484998e-01 3.75611931e-01 9.82134254e-04 ... 4.11744433e-04\n",
            "  4.72807854e-01 1.83190834e-02]\n",
            " [1.44351423e-01 3.69516969e-01 4.36188839e-03 ... 3.03348503e-03\n",
            "  4.11911577e-01 5.72120547e-02]\n",
            " ...\n",
            " [8.56954721e-04 1.23072870e-03 2.66650505e-02 ... 1.21840544e-01\n",
            "  6.80700829e-03 3.73316742e-03]\n",
            " [1.35177433e-01 5.72424531e-01 1.73820239e-02 ... 6.01774752e-02\n",
            "  2.39133649e-02 1.17985256e-01]\n",
            " [6.24397144e-05 2.79844571e-05 4.08744439e-03 ... 9.13076997e-01\n",
            "  1.22008873e-06 1.83603857e-04]]\n",
            "313/313 [==============================] - 1s 3ms/step - loss: 1.0387 - accuracy: 0.6329\n"
          ]
        },
        {
          "output_type": "execute_result",
          "data": {
            "text/plain": [
              "[1.038693904876709, 0.6328999996185303]"
            ]
          },
          "metadata": {},
          "execution_count": 17
        }
      ]
    },
    {
      "cell_type": "code",
      "source": [
        "import matplotlib.pyplot as plt\n",
        "import random\n",
        "\n",
        "images = x_test[random.sample(range(0, len(x_test)), 5)]\n",
        "# predict the class of each image\n",
        "predictions = model2.predict(images)\n",
        "classes = [\"airplane\",\"automobile\",\"bird\",\"cat\",\"deer\",\"dog\",\"frog\",\"horse\",\"ship\",\"truck\"]\n",
        "# show the images\n",
        "fig = plt.figure(figsize=(20, 20))\n",
        "for i in range(len(images)):\n",
        "    fig.add_subplot(1, 5, (i+1)*1)\n",
        "    plt.imshow(images[i])\n",
        "    plt.axis('off')\n",
        "    best = max(predictions[i])\n",
        "    class_name = classes[list(predictions[i]).index(best)]\n",
        "    plt.title(class_name+ str(best))"
      ],
      "metadata": {
        "id": "a9iDFHiA9Kqw",
        "colab": {
          "base_uri": "https://localhost:8080/",
          "height": 253
        },
        "outputId": "23bd8ef7-6e39-46c9-c284-968fdcc9ad24"
      },
      "execution_count": 18,
      "outputs": [
        {
          "output_type": "stream",
          "name": "stdout",
          "text": [
            "1/1 [==============================] - 0s 180ms/step\n"
          ]
        },
        {
          "output_type": "display_data",
          "data": {
            "text/plain": [
              "<Figure size 2000x2000 with 5 Axes>"
            ],
            "image/png": "[encoded data removed]"
          },
          "metadata": {}
        }
      ]
    }
  ]
}
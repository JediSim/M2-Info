{
 "cells": [
  {
   "cell_type": "markdown",
   "id": "f3520f4ff4b4f589",
   "metadata": {
    "collapsed": false
   },
   "source": [
    "# TP en Traitement Automatique du Langage Naturel: Classification de Sentiments sur des Critiques de Films\n",
    "\n",
    "## Objectif\n",
    "L'objectif de ce TP est de développer un système de classification de sentiments utilisant des critiques de films. Vous utiliserez un ensemble de données IMDb et appliqueront un modèle K-Nearest Neighbors (KNN) pour classer les critiques en catégories positives ou négatives.\n",
    "\n",
    "## Partie 1: Traitement des Textes\n",
    "1. **Preprocess**: Appliquer un preprocess si besoin\n",
    "1. **Vectorisation**: Transformez les documents textuels en vecteurs numériques en utilisant `TfidfVectorizer`.\n",
    "\n",
    "## Partie 3: Modélisation\n",
    "1. **Construction du Modèle KNN**: Créez un modèle KNN\n",
    "2. **Entraînement du Modèle**: Entraînez le modèle sur l'ensemble d'entraînement.\n",
    "\n",
    "## Partie 4: Évaluation\n",
    "1. **Prédiction et Classification**: Utilisez le modèle pour prédire les sentiments sur l'ensemble de test.\n",
    "2. **Rapport de Classification**: Générez un rapport de classification pour évaluer la performance du modèle.\n",
    "\n",
    "## Questions\n",
    "1. Comment la réduction du nombre de caractéristiques (`max_features`) affecte-t-elle la performance du modèle ?\n",
    "2. Quel impact a le choix du nombre de voisins dans KNN sur les résultats ?\n",
    "3. Comparez les performances du modèle KNN avec un autre classificateur (par exemple, [Naive Bayes](https://scikit-learn.org/stable/modules/naive_bayes.html) ou [SVM](https://scikit-learn.org/stable/modules/generated/sklearn.svm.LinearSVC.html#sklearn.svm.LinearSVC). Lequel performe mieux et pourquoi ?\n",
    "4. Le preprocessing améliore t-il la clasification ?\n",
    "\n",
    "## Ressources\n",
    "- [IMDb Dataset](https://huggingface.co/datasets/imdb)\n",
    "- [Scikit-learn Documentation](https://scikit-learn.org/stable/)"
   ]
  },
  {
   "cell_type": "code",
   "execution_count": 1,
   "id": "15ccbdee81a84e54",
   "metadata": {
    "collapsed": false
   },
   "outputs": [
    {
     "name": "stdout",
     "output_type": "stream",
     "text": [
      "Requirement already satisfied: datasets in /home/pichenot/Documents/git/M2-Info/.venv/lib/python3.11/site-packages (2.16.1)\n",
      "Requirement already satisfied: scikit-learn in /home/pichenot/Documents/git/M2-Info/.venv/lib/python3.11/site-packages (1.4.0)\n",
      "Requirement already satisfied: spacy in /home/pichenot/Documents/git/M2-Info/.venv/lib/python3.11/site-packages (3.7.3)\n",
      "Requirement already satisfied: plotly in /home/pichenot/Documents/git/M2-Info/.venv/lib/python3.11/site-packages (5.18.0)\n",
      "Requirement already satisfied: filelock in /home/pichenot/Documents/git/M2-Info/.venv/lib/python3.11/site-packages (from datasets) (3.13.1)\n",
      "Requirement already satisfied: numpy>=1.17 in /home/pichenot/Documents/git/M2-Info/.venv/lib/python3.11/site-packages (from datasets) (1.26.4)\n",
      "Requirement already satisfied: pyarrow>=8.0.0 in /home/pichenot/Documents/git/M2-Info/.venv/lib/python3.11/site-packages (from datasets) (15.0.0)\n",
      "Requirement already satisfied: pyarrow-hotfix in /home/pichenot/Documents/git/M2-Info/.venv/lib/python3.11/site-packages (from datasets) (0.6)\n",
      "Requirement already satisfied: dill<0.3.8,>=0.3.0 in /home/pichenot/Documents/git/M2-Info/.venv/lib/python3.11/site-packages (from datasets) (0.3.7)\n",
      "Requirement already satisfied: pandas in /home/pichenot/Documents/git/M2-Info/.venv/lib/python3.11/site-packages (from datasets) (2.2.0)\n",
      "Requirement already satisfied: requests>=2.19.0 in /home/pichenot/Documents/git/M2-Info/.venv/lib/python3.11/site-packages (from datasets) (2.31.0)\n",
      "Requirement already satisfied: tqdm>=4.62.1 in /home/pichenot/Documents/git/M2-Info/.venv/lib/python3.11/site-packages (from datasets) (4.66.1)\n",
      "Requirement already satisfied: xxhash in /home/pichenot/Documents/git/M2-Info/.venv/lib/python3.11/site-packages (from datasets) (3.4.1)\n",
      "Requirement already satisfied: multiprocess in /home/pichenot/Documents/git/M2-Info/.venv/lib/python3.11/site-packages (from datasets) (0.70.15)\n",
      "Requirement already satisfied: fsspec<=2023.10.0,>=2023.1.0 in /home/pichenot/Documents/git/M2-Info/.venv/lib/python3.11/site-packages (from fsspec[http]<=2023.10.0,>=2023.1.0->datasets) (2023.10.0)\n",
      "Requirement already satisfied: aiohttp in /home/pichenot/Documents/git/M2-Info/.venv/lib/python3.11/site-packages (from datasets) (3.9.3)\n",
      "Requirement already satisfied: huggingface-hub>=0.19.4 in /home/pichenot/Documents/git/M2-Info/.venv/lib/python3.11/site-packages (from datasets) (0.20.3)\n",
      "Requirement already satisfied: packaging in /home/pichenot/Documents/git/M2-Info/.venv/lib/python3.11/site-packages (from datasets) (23.2)\n",
      "Requirement already satisfied: pyyaml>=5.1 in /home/pichenot/Documents/git/M2-Info/.venv/lib/python3.11/site-packages (from datasets) (6.0.1)\n",
      "Requirement already satisfied: scipy>=1.6.0 in /home/pichenot/Documents/git/M2-Info/.venv/lib/python3.11/site-packages (from scikit-learn) (1.12.0)\n",
      "Requirement already satisfied: joblib>=1.2.0 in /home/pichenot/Documents/git/M2-Info/.venv/lib/python3.11/site-packages (from scikit-learn) (1.3.2)\n",
      "Requirement already satisfied: threadpoolctl>=2.0.0 in /home/pichenot/Documents/git/M2-Info/.venv/lib/python3.11/site-packages (from scikit-learn) (3.2.0)\n",
      "Requirement already satisfied: spacy-legacy<3.1.0,>=3.0.11 in /home/pichenot/Documents/git/M2-Info/.venv/lib/python3.11/site-packages (from spacy) (3.0.12)\n",
      "Requirement already satisfied: spacy-loggers<2.0.0,>=1.0.0 in /home/pichenot/Documents/git/M2-Info/.venv/lib/python3.11/site-packages (from spacy) (1.0.5)\n",
      "Requirement already satisfied: murmurhash<1.1.0,>=0.28.0 in /home/pichenot/Documents/git/M2-Info/.venv/lib/python3.11/site-packages (from spacy) (1.0.10)\n",
      "Requirement already satisfied: cymem<2.1.0,>=2.0.2 in /home/pichenot/Documents/git/M2-Info/.venv/lib/python3.11/site-packages (from spacy) (2.0.8)\n",
      "Requirement already satisfied: preshed<3.1.0,>=3.0.2 in /home/pichenot/Documents/git/M2-Info/.venv/lib/python3.11/site-packages (from spacy) (3.0.9)\n",
      "Requirement already satisfied: thinc<8.3.0,>=8.2.2 in /home/pichenot/Documents/git/M2-Info/.venv/lib/python3.11/site-packages (from spacy) (8.2.3)\n",
      "Requirement already satisfied: wasabi<1.2.0,>=0.9.1 in /home/pichenot/Documents/git/M2-Info/.venv/lib/python3.11/site-packages (from spacy) (1.1.2)\n",
      "Requirement already satisfied: srsly<3.0.0,>=2.4.3 in /home/pichenot/Documents/git/M2-Info/.venv/lib/python3.11/site-packages (from spacy) (2.4.8)\n",
      "Requirement already satisfied: catalogue<2.1.0,>=2.0.6 in /home/pichenot/Documents/git/M2-Info/.venv/lib/python3.11/site-packages (from spacy) (2.0.10)\n",
      "Requirement already satisfied: weasel<0.4.0,>=0.1.0 in /home/pichenot/Documents/git/M2-Info/.venv/lib/python3.11/site-packages (from spacy) (0.3.4)\n",
      "Requirement already satisfied: typer<0.10.0,>=0.3.0 in /home/pichenot/Documents/git/M2-Info/.venv/lib/python3.11/site-packages (from spacy) (0.9.0)\n",
      "Requirement already satisfied: smart-open<7.0.0,>=5.2.1 in /home/pichenot/Documents/git/M2-Info/.venv/lib/python3.11/site-packages (from spacy) (6.4.0)\n",
      "Requirement already satisfied: pydantic!=1.8,!=1.8.1,<3.0.0,>=1.7.4 in /home/pichenot/Documents/git/M2-Info/.venv/lib/python3.11/site-packages (from spacy) (2.6.1)\n",
      "Requirement already satisfied: jinja2 in /home/pichenot/Documents/git/M2-Info/.venv/lib/python3.11/site-packages (from spacy) (3.1.3)\n",
      "Requirement already satisfied: setuptools in /home/pichenot/Documents/git/M2-Info/.venv/lib/python3.11/site-packages (from spacy) (65.5.0)\n",
      "Requirement already satisfied: langcodes<4.0.0,>=3.2.0 in /home/pichenot/Documents/git/M2-Info/.venv/lib/python3.11/site-packages (from spacy) (3.3.0)\n",
      "Requirement already satisfied: tenacity>=6.2.0 in /home/pichenot/Documents/git/M2-Info/.venv/lib/python3.11/site-packages (from plotly) (8.2.3)\n",
      "Requirement already satisfied: aiosignal>=1.1.2 in /home/pichenot/Documents/git/M2-Info/.venv/lib/python3.11/site-packages (from aiohttp->datasets) (1.3.1)\n",
      "Requirement already satisfied: attrs>=17.3.0 in /home/pichenot/Documents/git/M2-Info/.venv/lib/python3.11/site-packages (from aiohttp->datasets) (23.2.0)\n",
      "Requirement already satisfied: frozenlist>=1.1.1 in /home/pichenot/Documents/git/M2-Info/.venv/lib/python3.11/site-packages (from aiohttp->datasets) (1.4.1)\n",
      "Requirement already satisfied: multidict<7.0,>=4.5 in /home/pichenot/Documents/git/M2-Info/.venv/lib/python3.11/site-packages (from aiohttp->datasets) (6.0.5)\n",
      "Requirement already satisfied: yarl<2.0,>=1.0 in /home/pichenot/Documents/git/M2-Info/.venv/lib/python3.11/site-packages (from aiohttp->datasets) (1.9.4)\n",
      "Requirement already satisfied: typing-extensions>=3.7.4.3 in /home/pichenot/Documents/git/M2-Info/.venv/lib/python3.11/site-packages (from huggingface-hub>=0.19.4->datasets) (4.9.0)\n",
      "Requirement already satisfied: annotated-types>=0.4.0 in /home/pichenot/Documents/git/M2-Info/.venv/lib/python3.11/site-packages (from pydantic!=1.8,!=1.8.1,<3.0.0,>=1.7.4->spacy) (0.6.0)\n",
      "Requirement already satisfied: pydantic-core==2.16.2 in /home/pichenot/Documents/git/M2-Info/.venv/lib/python3.11/site-packages (from pydantic!=1.8,!=1.8.1,<3.0.0,>=1.7.4->spacy) (2.16.2)\n",
      "Requirement already satisfied: charset-normalizer<4,>=2 in /home/pichenot/Documents/git/M2-Info/.venv/lib/python3.11/site-packages (from requests>=2.19.0->datasets) (3.3.2)\n",
      "Requirement already satisfied: idna<4,>=2.5 in /home/pichenot/Documents/git/M2-Info/.venv/lib/python3.11/site-packages (from requests>=2.19.0->datasets) (3.6)\n",
      "Requirement already satisfied: urllib3<3,>=1.21.1 in /home/pichenot/Documents/git/M2-Info/.venv/lib/python3.11/site-packages (from requests>=2.19.0->datasets) (2.2.0)\n",
      "Requirement already satisfied: certifi>=2017.4.17 in /home/pichenot/Documents/git/M2-Info/.venv/lib/python3.11/site-packages (from requests>=2.19.0->datasets) (2024.2.2)\n",
      "Requirement already satisfied: blis<0.8.0,>=0.7.8 in /home/pichenot/Documents/git/M2-Info/.venv/lib/python3.11/site-packages (from thinc<8.3.0,>=8.2.2->spacy) (0.7.11)\n",
      "Requirement already satisfied: confection<1.0.0,>=0.0.1 in /home/pichenot/Documents/git/M2-Info/.venv/lib/python3.11/site-packages (from thinc<8.3.0,>=8.2.2->spacy) (0.1.4)\n",
      "Requirement already satisfied: click<9.0.0,>=7.1.1 in /home/pichenot/Documents/git/M2-Info/.venv/lib/python3.11/site-packages (from typer<0.10.0,>=0.3.0->spacy) (8.1.7)\n",
      "Requirement already satisfied: cloudpathlib<0.17.0,>=0.7.0 in /home/pichenot/Documents/git/M2-Info/.venv/lib/python3.11/site-packages (from weasel<0.4.0,>=0.1.0->spacy) (0.16.0)\n",
      "Requirement already satisfied: MarkupSafe>=2.0 in /home/pichenot/Documents/git/M2-Info/.venv/lib/python3.11/site-packages (from jinja2->spacy) (2.1.5)\n",
      "Requirement already satisfied: python-dateutil>=2.8.2 in /home/pichenot/Documents/git/M2-Info/.venv/lib/python3.11/site-packages (from pandas->datasets) (2.8.2)\n",
      "Requirement already satisfied: pytz>=2020.1 in /home/pichenot/Documents/git/M2-Info/.venv/lib/python3.11/site-packages (from pandas->datasets) (2024.1)\n",
      "Requirement already satisfied: tzdata>=2022.7 in /home/pichenot/Documents/git/M2-Info/.venv/lib/python3.11/site-packages (from pandas->datasets) (2023.4)\n",
      "Requirement already satisfied: six>=1.5 in /home/pichenot/Documents/git/M2-Info/.venv/lib/python3.11/site-packages (from python-dateutil>=2.8.2->pandas->datasets) (1.16.0)\n",
      "Collecting en-core-web-sm==3.7.1\n",
      "  Downloading https://github.com/explosion/spacy-models/releases/download/en_core_web_sm-3.7.1/en_core_web_sm-3.7.1-py3-none-any.whl (12.8 MB)\n",
      "\u001b[2K     \u001b[38;2;114;156;31m━━━━━━━━━━━━━━━━━━━━━━━━━━━━━━━━━━━━━━━━\u001b[0m \u001b[32m12.8/12.8 MB\u001b[0m \u001b[31m5.7 MB/s\u001b[0m eta \u001b[36m0:00:00\u001b[0mm eta \u001b[36m0:00:01\u001b[0m0:01\u001b[0m:01\u001b[0m\n",
      "\u001b[?25hRequirement already satisfied: spacy<3.8.0,>=3.7.2 in /home/pichenot/Documents/git/M2-Info/.venv/lib/python3.11/site-packages (from en-core-web-sm==3.7.1) (3.7.3)\n",
      "Requirement already satisfied: spacy-legacy<3.1.0,>=3.0.11 in /home/pichenot/Documents/git/M2-Info/.venv/lib/python3.11/site-packages (from spacy<3.8.0,>=3.7.2->en-core-web-sm==3.7.1) (3.0.12)\n",
      "Requirement already satisfied: spacy-loggers<2.0.0,>=1.0.0 in /home/pichenot/Documents/git/M2-Info/.venv/lib/python3.11/site-packages (from spacy<3.8.0,>=3.7.2->en-core-web-sm==3.7.1) (1.0.5)\n",
      "Requirement already satisfied: murmurhash<1.1.0,>=0.28.0 in /home/pichenot/Documents/git/M2-Info/.venv/lib/python3.11/site-packages (from spacy<3.8.0,>=3.7.2->en-core-web-sm==3.7.1) (1.0.10)\n",
      "Requirement already satisfied: cymem<2.1.0,>=2.0.2 in /home/pichenot/Documents/git/M2-Info/.venv/lib/python3.11/site-packages (from spacy<3.8.0,>=3.7.2->en-core-web-sm==3.7.1) (2.0.8)\n",
      "Requirement already satisfied: preshed<3.1.0,>=3.0.2 in /home/pichenot/Documents/git/M2-Info/.venv/lib/python3.11/site-packages (from spacy<3.8.0,>=3.7.2->en-core-web-sm==3.7.1) (3.0.9)\n",
      "Requirement already satisfied: thinc<8.3.0,>=8.2.2 in /home/pichenot/Documents/git/M2-Info/.venv/lib/python3.11/site-packages (from spacy<3.8.0,>=3.7.2->en-core-web-sm==3.7.1) (8.2.3)\n",
      "Requirement already satisfied: wasabi<1.2.0,>=0.9.1 in /home/pichenot/Documents/git/M2-Info/.venv/lib/python3.11/site-packages (from spacy<3.8.0,>=3.7.2->en-core-web-sm==3.7.1) (1.1.2)\n",
      "Requirement already satisfied: srsly<3.0.0,>=2.4.3 in /home/pichenot/Documents/git/M2-Info/.venv/lib/python3.11/site-packages (from spacy<3.8.0,>=3.7.2->en-core-web-sm==3.7.1) (2.4.8)\n",
      "Requirement already satisfied: catalogue<2.1.0,>=2.0.6 in /home/pichenot/Documents/git/M2-Info/.venv/lib/python3.11/site-packages (from spacy<3.8.0,>=3.7.2->en-core-web-sm==3.7.1) (2.0.10)\n",
      "Requirement already satisfied: weasel<0.4.0,>=0.1.0 in /home/pichenot/Documents/git/M2-Info/.venv/lib/python3.11/site-packages (from spacy<3.8.0,>=3.7.2->en-core-web-sm==3.7.1) (0.3.4)\n",
      "Requirement already satisfied: typer<0.10.0,>=0.3.0 in /home/pichenot/Documents/git/M2-Info/.venv/lib/python3.11/site-packages (from spacy<3.8.0,>=3.7.2->en-core-web-sm==3.7.1) (0.9.0)\n",
      "Requirement already satisfied: smart-open<7.0.0,>=5.2.1 in /home/pichenot/Documents/git/M2-Info/.venv/lib/python3.11/site-packages (from spacy<3.8.0,>=3.7.2->en-core-web-sm==3.7.1) (6.4.0)\n",
      "Requirement already satisfied: tqdm<5.0.0,>=4.38.0 in /home/pichenot/Documents/git/M2-Info/.venv/lib/python3.11/site-packages (from spacy<3.8.0,>=3.7.2->en-core-web-sm==3.7.1) (4.66.1)\n",
      "Requirement already satisfied: requests<3.0.0,>=2.13.0 in /home/pichenot/Documents/git/M2-Info/.venv/lib/python3.11/site-packages (from spacy<3.8.0,>=3.7.2->en-core-web-sm==3.7.1) (2.31.0)\n",
      "Requirement already satisfied: pydantic!=1.8,!=1.8.1,<3.0.0,>=1.7.4 in /home/pichenot/Documents/git/M2-Info/.venv/lib/python3.11/site-packages (from spacy<3.8.0,>=3.7.2->en-core-web-sm==3.7.1) (2.6.1)\n",
      "Requirement already satisfied: jinja2 in /home/pichenot/Documents/git/M2-Info/.venv/lib/python3.11/site-packages (from spacy<3.8.0,>=3.7.2->en-core-web-sm==3.7.1) (3.1.3)\n",
      "Requirement already satisfied: setuptools in /home/pichenot/Documents/git/M2-Info/.venv/lib/python3.11/site-packages (from spacy<3.8.0,>=3.7.2->en-core-web-sm==3.7.1) (65.5.0)\n",
      "Requirement already satisfied: packaging>=20.0 in /home/pichenot/Documents/git/M2-Info/.venv/lib/python3.11/site-packages (from spacy<3.8.0,>=3.7.2->en-core-web-sm==3.7.1) (23.2)\n",
      "Requirement already satisfied: langcodes<4.0.0,>=3.2.0 in /home/pichenot/Documents/git/M2-Info/.venv/lib/python3.11/site-packages (from spacy<3.8.0,>=3.7.2->en-core-web-sm==3.7.1) (3.3.0)\n",
      "Requirement already satisfied: numpy>=1.19.0 in /home/pichenot/Documents/git/M2-Info/.venv/lib/python3.11/site-packages (from spacy<3.8.0,>=3.7.2->en-core-web-sm==3.7.1) (1.26.4)\n",
      "Requirement already satisfied: annotated-types>=0.4.0 in /home/pichenot/Documents/git/M2-Info/.venv/lib/python3.11/site-packages (from pydantic!=1.8,!=1.8.1,<3.0.0,>=1.7.4->spacy<3.8.0,>=3.7.2->en-core-web-sm==3.7.1) (0.6.0)\n",
      "Requirement already satisfied: pydantic-core==2.16.2 in /home/pichenot/Documents/git/M2-Info/.venv/lib/python3.11/site-packages (from pydantic!=1.8,!=1.8.1,<3.0.0,>=1.7.4->spacy<3.8.0,>=3.7.2->en-core-web-sm==3.7.1) (2.16.2)\n",
      "Requirement already satisfied: typing-extensions>=4.6.1 in /home/pichenot/Documents/git/M2-Info/.venv/lib/python3.11/site-packages (from pydantic!=1.8,!=1.8.1,<3.0.0,>=1.7.4->spacy<3.8.0,>=3.7.2->en-core-web-sm==3.7.1) (4.9.0)\n",
      "Requirement already satisfied: charset-normalizer<4,>=2 in /home/pichenot/Documents/git/M2-Info/.venv/lib/python3.11/site-packages (from requests<3.0.0,>=2.13.0->spacy<3.8.0,>=3.7.2->en-core-web-sm==3.7.1) (3.3.2)\n",
      "Requirement already satisfied: idna<4,>=2.5 in /home/pichenot/Documents/git/M2-Info/.venv/lib/python3.11/site-packages (from requests<3.0.0,>=2.13.0->spacy<3.8.0,>=3.7.2->en-core-web-sm==3.7.1) (3.6)\n",
      "Requirement already satisfied: urllib3<3,>=1.21.1 in /home/pichenot/Documents/git/M2-Info/.venv/lib/python3.11/site-packages (from requests<3.0.0,>=2.13.0->spacy<3.8.0,>=3.7.2->en-core-web-sm==3.7.1) (2.2.0)\n",
      "Requirement already satisfied: certifi>=2017.4.17 in /home/pichenot/Documents/git/M2-Info/.venv/lib/python3.11/site-packages (from requests<3.0.0,>=2.13.0->spacy<3.8.0,>=3.7.2->en-core-web-sm==3.7.1) (2024.2.2)\n",
      "Requirement already satisfied: blis<0.8.0,>=0.7.8 in /home/pichenot/Documents/git/M2-Info/.venv/lib/python3.11/site-packages (from thinc<8.3.0,>=8.2.2->spacy<3.8.0,>=3.7.2->en-core-web-sm==3.7.1) (0.7.11)\n",
      "Requirement already satisfied: confection<1.0.0,>=0.0.1 in /home/pichenot/Documents/git/M2-Info/.venv/lib/python3.11/site-packages (from thinc<8.3.0,>=8.2.2->spacy<3.8.0,>=3.7.2->en-core-web-sm==3.7.1) (0.1.4)\n",
      "Requirement already satisfied: click<9.0.0,>=7.1.1 in /home/pichenot/Documents/git/M2-Info/.venv/lib/python3.11/site-packages (from typer<0.10.0,>=0.3.0->spacy<3.8.0,>=3.7.2->en-core-web-sm==3.7.1) (8.1.7)\n",
      "Requirement already satisfied: cloudpathlib<0.17.0,>=0.7.0 in /home/pichenot/Documents/git/M2-Info/.venv/lib/python3.11/site-packages (from weasel<0.4.0,>=0.1.0->spacy<3.8.0,>=3.7.2->en-core-web-sm==3.7.1) (0.16.0)\n",
      "Requirement already satisfied: MarkupSafe>=2.0 in /home/pichenot/Documents/git/M2-Info/.venv/lib/python3.11/site-packages (from jinja2->spacy<3.8.0,>=3.7.2->en-core-web-sm==3.7.1) (2.1.5)\n",
      "\u001b[38;5;2m✔ Download and installation successful\u001b[0m\n",
      "You can now load the package via spacy.load('en_core_web_sm')\n"
     ]
    }
   ],
   "source": [
    "\n",
    "# !python -m venv env\n",
    "# !source env/bin/activate\n",
    "!pip install datasets scikit-learn spacy plotly\n",
    "!python -m spacy download en_core_web_sm"
   ]
  },
  {
   "cell_type": "code",
   "execution_count": 2,
   "id": "9bf4b70f36e01ec2",
   "metadata": {
    "ExecuteTime": {
     "start_time": "2024-02-08T08:04:59.124588100Z"
    },
    "collapsed": false,
    "is_executing": true
   },
   "outputs": [
    {
     "name": "stderr",
     "output_type": "stream",
     "text": [
      "/home/pichenot/Documents/git/M2-Info/.venv/lib/python3.11/site-packages/tqdm/auto.py:21: TqdmWarning: IProgress not found. Please update jupyter and ipywidgets. See https://ipywidgets.readthedocs.io/en/stable/user_install.html\n",
      "  from .autonotebook import tqdm as notebook_tqdm\n"
     ]
    }
   ],
   "source": [
    "from datasets import load_dataset\n",
    "from sklearn.feature_extraction.text import TfidfVectorizer\n",
    "from sklearn.neighbors import KNeighborsClassifier\n",
    "from sklearn.metrics import classification_report\n",
    "\n",
    "# On split plusieur fois le dataset afin de réduire le temps de calcule\n",
    "dataset = load_dataset(\"imdb\", split=\"train\")\n",
    "dataset = dataset.train_test_split(stratify_by_column=\"label\", test_size=0.3, seed=42)\n",
    "dataset = dataset['train'].train_test_split(stratify_by_column=\"label\", test_size=0.3, seed=42)"
   ]
  },
  {
   "cell_type": "code",
   "execution_count": 3,
   "id": "c85c4005",
   "metadata": {},
   "outputs": [],
   "source": [
    "# preprocessing data\n",
    "import spacy\n",
    "nlp = spacy.load(\"en_core_web_sm\")\n",
    "\n",
    "\n"
   ]
  },
  {
   "cell_type": "code",
   "execution_count": 4,
   "id": "72b59fc8",
   "metadata": {},
   "outputs": [],
   "source": [
    "# tokenization\n",
    "def tokenize(text):\n",
    "    doc = nlp.tokenizer(text)\n",
    "    return [token.text for token in doc]"
   ]
  },
  {
   "cell_type": "code",
   "execution_count": 5,
   "id": "ccdcf1bd",
   "metadata": {},
   "outputs": [],
   "source": [
    "# stop words\n",
    "from spacy.lang.en.stop_words import STOP_WORDS\n",
    "stop_words = list(STOP_WORDS)\n",
    "\n",
    "# clean\n"
   ]
  },
  {
   "cell_type": "code",
   "execution_count": 7,
   "id": "2b378925",
   "metadata": {},
   "outputs": [
    {
     "name": "stdout",
     "output_type": "stream",
     "text": [
      "              precision    recall  f1-score   support\n",
      "\n",
      "         neg       0.77      0.73      0.75      2625\n",
      "         pos       0.75      0.78      0.76      2625\n",
      "\n",
      "    accuracy                           0.76      5250\n",
      "   macro avg       0.76      0.76      0.76      5250\n",
      "weighted avg       0.76      0.76      0.76      5250\n",
      "\n"
     ]
    }
   ],
   "source": [
    "# vectorisation des données\n",
    "vectorizer = TfidfVectorizer()\n",
    "X_train = vectorizer.fit_transform(dataset['train']['text'])\n",
    "X_test = vectorizer.transform(dataset['test']['text'])\n",
    "\n",
    "# entrainement du modèle\n",
    "model = KNeighborsClassifier(n_neighbors=5)\n",
    "model.fit(X_train, dataset['train']['label'])\n",
    "\n",
    "# prédiction\n",
    "y_pred = model.predict(X_test)\n",
    "\n",
    "# affichage des résultats\n",
    "print(classification_report(dataset['test']['label'], y_pred, target_names=dataset['test'].features['label'].names))\n",
    "\n"
   ]
  },
  {
   "cell_type": "code",
   "execution_count": 9,
   "id": "b099e892",
   "metadata": {},
   "outputs": [
    {
     "name": "stdout",
     "output_type": "stream",
     "text": [
      "Text: I just got back from the film and I'm completely appalled. This movie is an absolute mockery to all of mankind. The theatre I was in maybe had 4 other people. This movie was recommended to me and I couldn't believe that this person liked it. I can't believe that any sane human would like it. There was no plot NO PLOT AT ALL. It was a joke. How can you make a movie about nothing. This movie only goes to show why Hollywood is in such a shambles. I can only just look at the spiral of the \"Horror Movie\" industry and giggle. What a travesty to all filmaking, this is true of all the new \"teen horror flicks\" Grudge,Boogeyman,Ring,Saw series. It is all such trash. Don't support this kind of hogwash!\n",
      "True label: 0\n",
      "Predicted label: neg\n",
      "\n",
      "Text: I love Memoirs of a Geisha so I read the book twice; it is one of the best book I've read last year. I was looking forward to the movie and was afraid that reading the book would ruin the viewing pleasure of the movie. I wasn't expecting the movie to be that bad. Some of the best part of the book was omitted from the movie and the characters were weak with Hatsumomo (Li Gong)been the worst. If I haven't read the book, this movie would be a little confusing and inexplicable. The Plot Outline of the movie states \"Nitta Sayuri reveals how she transcended her fishing...\" Did anyone see how or when Sayuri became Nitta Sayuri? Forget the movie and read the book.\n",
      "True label: 0\n",
      "Predicted label: neg\n",
      "\n",
      "Text: As a movie this barely rates a 4 but for movie fans of the 1940s period, it's almost a must-see and rates a 9 as a variety show! I was drawn to watch this by the presence of Richard (Captain Midnight) Webb who plays the Colonel in charge of the event. What surprised me was the stunning performance of Doris Day. Outside of 'Calamity Jane', I've never seen her put over a song better than she does here. Randolph Scott is memorable as well, even if he doesn't see much screen time. It's been a while since I saw the movie but I was almost sure Humphrey Bogart put in an appearance. With so many familiar faces, it's hard to keep track. If it ever turns up on a TV station near you, be sure to catch the Doris Day sequence, if nothing else!<br /><br />\n",
      "True label: 1\n",
      "Predicted label: pos\n",
      "\n",
      "Text: PLAN B has the appearance of a quickly made, unedited, sloppy script for a movie with the attempt for an outing for the actors involved - an outing that should have been nixed from the start. It is just another Mafia-based 'comedy' that has nothing new and lowers the standard for those participating.<br /><br />Joe Maloni (Paul Sorvino) is the crime boss more concerned about clothing and appearances than about his business of control. His personal assistant Mario (Anthony DeSando) is dumber than dirt and his ignorance is supposed to be funny. Maloni has whacked one of his debtors (who just happens to be married to bookish Fran - Diane Keaton) and Maloni takes Fran on as his assistant to work off her dead husband's debt by being Maloni's 'hit man'. Fran is afraid of her own shadow and is unable to carry out Maloni's assignments, electing instead to transport her 'whackees' to Florida to hide at her brother James' house until she can figure out what to do next. This alternative to killing the three candidates is called Plan B, Plan A being to kill them! The ending is wholly predictable just as is every line assigned in the script to the characters.<br /><br />Diane Keaton has made a lot of fine films and is one of our most talented actresses and comediennes, but here she screams and rants and twitches her way through a ridiculous part that quickly becomes annoying to watch. Paul Sorvino is, well, the Paul Sorvino type cast from other mobster films. The supporting cast is likewise allowed to play to the balcony in the broadest slapstick, pratfall fashion imaginable. What is supposed to be a comedy ends up being just silly and overdone. Director Greg Yaitanes needs to go back to TV sitcoms: had this flimsy story been compressed into a half-hour gig it might have had a chance. Grady Harp\n",
      "True label: 0\n",
      "Predicted label: pos\n",
      "\n",
      "Text: This film is NOT about a cat and mouse fight as stated in the other comment. Its about a cat that has used up 8 of its 9 lives and now lives in fear of loosing its last one. The cat is jumpy and scared to death all of the time, hence the name 'fraidy cat'. Fraidy Cat's previous lives haunt him as ghosts which are from different era's in time and are constantly trying to kill him off, but he is most fearful of the ninth life which is represented as a cloud in the shape of a number 9 and spits out lighting bolts. very old now but would still be fun for the kids if you got hold of a copy. <br /><br />i watched this movie almost every day as a child :o)\n",
      "True label: 1\n",
      "Predicted label: neg\n",
      "\n"
     ]
    }
   ],
   "source": [
    "# test sur 5 données random\n",
    "import random\n",
    "for _ in range(5):\n",
    "    i = random.randint(0, len(dataset['test']) - 1)\n",
    "    print(f\"Text: {dataset['test']['text'][i]}\")\n",
    "    print(f\"True label: {dataset['test']['label'][i]}\")\n",
    "    print(f\"Predicted label: {dataset['test'].features['label'].names[y_pred[i]]}\")\n",
    "    print()"
   ]
  },
  {
   "cell_type": "code",
   "execution_count": 6,
   "id": "76a1fe46",
   "metadata": {},
   "outputs": [
    {
     "name": "stdout",
     "output_type": "stream",
     "text": [
      "              precision    recall  f1-score   support\n",
      "\n",
      "         neg       0.90      0.88      0.89      2625\n",
      "         pos       0.88      0.90      0.89      2625\n",
      "\n",
      "    accuracy                           0.89      5250\n",
      "   macro avg       0.89      0.89      0.89      5250\n",
      "weighted avg       0.89      0.89      0.89      5250\n",
      "\n"
     ]
    }
   ],
   "source": [
    "# vectorisation des données\n",
    "vectorizer = TfidfVectorizer()\n",
    "X_train = vectorizer.fit_transform(dataset['train']['text'])\n",
    "X_test = vectorizer.transform(dataset['test']['text'])\n",
    "\n",
    "# SVM\n",
    "from sklearn.svm import SVC\n",
    "model = SVC()\n",
    "model.fit(X_train, dataset['train']['label'])\n",
    "y_pred = model.predict(X_test)\n",
    "print(classification_report(dataset['test']['label'], y_pred, target_names=dataset['test'].features['label'].names))\n"
   ]
  }
 ],
 "metadata": {
  "kernelspec": {
   "display_name": "Python 3",
   "language": "python",
   "name": "python3"
  },
  "language_info": {
   "codemirror_mode": {
    "name": "ipython",
    "version": 3
   },
   "file_extension": ".py",
   "mimetype": "text/x-python",
   "name": "python",
   "nbconvert_exporter": "python",
   "pygments_lexer": "ipython3",
   "version": "3.11.6"
  }
 },
 "nbformat": 4,
 "nbformat_minor": 5
}
